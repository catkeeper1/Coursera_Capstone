{
 "cells": [
  {
   "cell_type": "markdown",
   "metadata": {},
   "source": [
    "# **Find the Best Location to Open an Ice Cream Shop in Boston Area**\n",
    "Capstone Project\n",
    "***"
   ]
  },
  {
   "cell_type": "markdown",
   "metadata": {},
   "source": [
    "# Introduction\n",
    "Selecting a location for a business is one of the most critical decisions in running a business. Business decision-makers need to consider different factors in finding the right location for the business, such as financial factors, market factors, and the factors that will affect their demand and revenue. This project can help those who plan to open a new business such as an ice-cream shop and need to find the best location for the shop in a city."
   ]
  },
  {
   "cell_type": "markdown",
   "metadata": {},
   "source": [
    "# Business Problem\n",
    "Finding the best location to start a new business in a large city such as Boston is challenging. Boston has 23 neighborhoods with various places that attract tourists and people to visit. Neighborhoods of Boston are different in terms of factors that can directly or indirectly affect business success. For an informed decision, it is essential to evaluate all neighborhoods based on the factors that affect running a successful business, such as the number of competitors and the potential demand in each neighborhood. Budget limitations in renting or buying a place also play an essential role in this decision-making, especially for small businesses.  \n",
    "\n",
    "In this project, We want to help a client find the best neighborhood in Boston to open an Ice Cream shop. Finding a neighborhood that is close enough to some amenities and venues, has fewer competitors, and is affordable is challenging for our client. An ice cream shop is good near a place where many people visit, such as near a cinema, park, garden, playground, etc. Also, the client has a limited budget, and a neighborhood with fewer competitors is less risky for him/her to start the business. "
   ]
  },
  {
   "cell_type": "markdown",
   "metadata": {},
   "source": [
    "# Data\n",
    "## Use BeautifulSoup to extract the neighborhoods:\n",
    "We need to extract the 23 neighborhoods of Boston and the median one-bedroom rent price (as an estimate of the renting cost of the shop) of each neighborhood. For this purpose, We will use the following website and apply the BeautifulSoup website scraping library to extract the data.\n",
    " http://realestate.boston.com/renting/2019/02/19/median-one-bedroom-rent-price/\n"
   ]
  },
  {
   "cell_type": "code",
   "execution_count": 1,
   "metadata": {},
   "outputs": [
    {
     "ename": "ModuleNotFoundError",
     "evalue": "No module named 'bs4'",
     "output_type": "error",
     "traceback": [
      "\u001b[1;31m---------------------------------------------------------------------------\u001b[0m",
      "\u001b[1;31mModuleNotFoundError\u001b[0m                       Traceback (most recent call last)",
      "\u001b[1;32m<ipython-input-1-cb1ccb02effe>\u001b[0m in \u001b[0;36m<module>\u001b[1;34m\u001b[0m\n\u001b[0;32m      3\u001b[0m \u001b[1;33m\u001b[0m\u001b[0m\n\u001b[0;32m      4\u001b[0m \u001b[1;32mfrom\u001b[0m \u001b[0murllib\u001b[0m\u001b[1;33m.\u001b[0m\u001b[0mrequest\u001b[0m \u001b[1;32mimport\u001b[0m \u001b[0murlopen\u001b[0m\u001b[1;33m\u001b[0m\u001b[1;33m\u001b[0m\u001b[0m\n\u001b[1;32m----> 5\u001b[1;33m \u001b[1;32mfrom\u001b[0m \u001b[0mbs4\u001b[0m \u001b[1;32mimport\u001b[0m \u001b[0mBeautifulSoup\u001b[0m\u001b[1;33m\u001b[0m\u001b[1;33m\u001b[0m\u001b[0m\n\u001b[0m",
      "\u001b[1;31mModuleNotFoundError\u001b[0m: No module named 'bs4'"
     ]
    }
   ],
   "source": [
    "import numpy as np\n",
    "import pandas as pd\n",
    "\n",
    "from urllib.request import urlopen\n",
    "from bs4 import BeautifulSoup"
   ]
  },
  {
   "cell_type": "code",
   "execution_count": null,
   "metadata": {},
   "outputs": [],
   "source": [
    "url = \"http://realestate.boston.com/renting/2019/02/19/median-one-bedroom-rent-price/\"\n",
    "html = urlopen(url)\n",
    "\n",
    "# create a Beautiful Soup object from the html\n",
    "soup = BeautifulSoup(html, 'lxml')\n",
    "type(soup)\n",
    "\n",
    "# using right click and inspect on the webpage we found the class of the useful part of the page:\n",
    "website_text = soup.find('div', {'class' :'content-text'}).text\n",
    "\n",
    "#convert the string to list\n",
    "import re\n",
    "My_list= re.findall('(.+?)\\n' , website_text)\n",
    "My_list\n"
   ]
  },
  {
   "cell_type": "markdown",
   "metadata": {},
   "source": [
    "Transform the data into pandas dataframe:"
   ]
  },
  {
   "cell_type": "code",
   "execution_count": null,
   "metadata": {},
   "outputs": [],
   "source": [
    "#remove the first 3 unuseful elements of the list\n",
    "del My_list[0:3]\n",
    "\n",
    "#create a list of all the neighborhoods:\n",
    "My_nb= My_list[0::3]\n",
    "\n",
    "#add ', MA, USA' to the name of the neighborhoods to make sure geopy we will find correct locations\n",
    "nb=[s + ', MA, USA' for s in My_nb]\n",
    "\n",
    "#create a list of average rent of the neighborhoods\n",
    "rt=My_list[1::3]\n",
    "\n",
    "#to remove the string 'Winter 2019: $' next to the rent values\n",
    "My_list2=[s.replace('Winter 2019: $', '') for s in rt]\n",
    "\n",
    "#create a panda dataframe of neighborhoods and their average rent of one-be apartment \n",
    "df_boston = pd.DataFrame({'Neighborhood':nb,'Average Rent':My_list2})\n",
    "\n",
    "#to make sure we will find the right location of the neighborhoods in boston area\n",
    "df_boston.xs(8)['Neighborhood']= 'Boston Downtown, MA,USA'\n",
    "df_boston.xs(21)['Neighborhood']= 'South End Boston, MA,USA'\n",
    "\n",
    "#remove 'Leather District' as geopy cannot fint its location\n",
    "df_boston.drop([13], inplace=True)\n",
    "df_boston"
   ]
  },
  {
   "cell_type": "code",
   "execution_count": null,
   "metadata": {},
   "outputs": [],
   "source": [
    "print('We are investigating {} neighborhoods of Boston.'.format (len(df_boston)))"
   ]
  },
  {
   "cell_type": "markdown",
   "metadata": {},
   "source": [
    "## Use GeopPy to get the coordinates of the neighborhoods:\n",
    "Use the GeoPy Python package to get the latitude and the longitude coordinates of all the neighborhoods of Boston:"
   ]
  },
  {
   "cell_type": "code",
   "execution_count": null,
   "metadata": {},
   "outputs": [],
   "source": [
    "#!conda install -c conda-forge geopy --yes "
   ]
  },
  {
   "cell_type": "code",
   "execution_count": null,
   "metadata": {},
   "outputs": [],
   "source": [
    "from geopy.geocoders import Nominatim\n",
    "geolocator = Nominatim()\n",
    "latlon = df_boston.Neighborhood.apply(lambda addr: geolocator.geocode(addr))\n",
    "df_boston[\"Latitude\"] = [x.latitude for x in latlon]\n",
    "df_boston[\"Longitude\"] = [x.longitude for x in latlon]\n",
    "\n",
    "df_boston.to_csv('df-boston.csv')#save the dataframe\n",
    "df_boston"
   ]
  },
  {
   "cell_type": "markdown",
   "metadata": {},
   "source": [
    "## Map the neighborhoods:"
   ]
  },
  {
   "cell_type": "code",
   "execution_count": null,
   "metadata": {},
   "outputs": [],
   "source": [
    "#get location of Boston to map the neighborhoods\n",
    "address = 'BOSTON, MA'\n",
    "\n",
    "geolocator = Nominatim(user_agent=\"ny_explorer\")\n",
    "location = geolocator.geocode(address)\n",
    "latitude = location.latitude\n",
    "longitude = location.longitude\n",
    "print('The geograpical coordinate of Boston are {}, {}.'.format(latitude, longitude))\n"
   ]
  },
  {
   "cell_type": "code",
   "execution_count": null,
   "metadata": {},
   "outputs": [],
   "source": [
    "#!conda install -c conda-forge folium=0.5.0 --yes "
   ]
  },
  {
   "cell_type": "code",
   "execution_count": null,
   "metadata": {},
   "outputs": [],
   "source": [
    "# create map of Boston using latitude and longitude values of the neighborhoods\n",
    "import folium \n",
    "map_Boston = folium.Map(location=[latitude, longitude], zoom_start=11)\n",
    "\n",
    "# add markers to map\n",
    "for lat, lng, label in zip(df_boston['Latitude'], df_boston['Longitude'], df_boston['Neighborhood']):\n",
    "    label = folium.Popup(label, parse_html=True)\n",
    "    folium.CircleMarker(\n",
    "        [lat, lng],\n",
    "        radius=5,\n",
    "        popup=label,\n",
    "        color='blue',\n",
    "        fill=True,\n",
    "        fill_color='#3186cc',\n",
    "        fill_opacity=0.7,\n",
    "        parse_html=False).add_to(map_Boston)  \n",
    "            \n",
    "map_Boston"
   ]
  },
  {
   "cell_type": "markdown",
   "metadata": {},
   "source": [
    "## Use Foursquare API to get information about some venues around these neighborhoods:\n",
    "\n",
    "Looking for Movie Theater, Playground, Park, Garden, Water Park, General Entertainment, Stadium, Amphitheater, Aquarium, Street Art, Beach, Recreation Center, and Pedestrian Plaza venues in walking distance (500 meters) from each of these neighborhood. These venues are places that many people usually visit them for entertainment and hence we will have good demand for ice cream around them. "
   ]
  },
  {
   "cell_type": "code",
   "execution_count": null,
   "metadata": {},
   "outputs": [],
   "source": [
    "# Venue categories to search around each neighborhood\n",
    "# The list of all venue categories of FourSquare can be found in the following link: https://developer.foursquare.com/docs/resources/categories. \n",
    "\n",
    "fs_categories = {\n",
    "    \n",
    "    'Movie Theater': '4bf58dd8d48988d17f941735',\n",
    "    'Playground': '4bf58dd8d48988d1e7941735',\n",
    "    'Park': '4bf58dd8d48988d163941735',\n",
    "    'Garden': '4bf58dd8d48988d15a941735',\n",
    "    'Water Park': '4bf58dd8d48988d193941735',\n",
    "    'General Entertainment': '4bf58dd8d48988d1f1931735',\n",
    "    'Stadium' : '4bf58dd8d48988d184941735',\n",
    "    'Amphitheater' :'56aa371be4b08b9a8d5734db',\n",
    "    'Aquarium' : '4fceea171983d5d06c3e9823',\n",
    "    'Street Art' : '52e81612bcbc57f1066b79ee',\n",
    "    'Beach' : '4bf58dd8d48988d1e2941735',\n",
    "    'Recreation Center' : '52e81612bcbc57f1066b7a26',\n",
    "    'Pedestrian Plaza': '52e81612bcbc57f1066b7a25'\n",
    "}\n",
    "\n",
    "', ' .join([ cat for cat in fs_categories])"
   ]
  },
  {
   "cell_type": "code",
   "execution_count": null,
   "metadata": {},
   "outputs": [],
   "source": [
    "# Install FourSquare client library\n",
    "!pip install foursquare"
   ]
  },
  {
   "cell_type": "code",
   "execution_count": null,
   "metadata": {},
   "outputs": [],
   "source": [
    "import foursquare\n",
    "CLIENT_ID = '1HABFONPEEOMT0AS2GVXPK53A4EO43AXRTJVN3B03CG3N3BE'\n",
    "CLIENT_SECRET = '0CR2ZL5CZHLX5OSIIJRZCBPXGCC1TIS2HQ04CUYLFBFRBG1Q' \n",
    "from pandas.io.json import json_normalize # tranform JSON file into a pandas dataframe\n",
    "fs = foursquare.Foursquare( CLIENT_ID, CLIENT_SECRET)\n",
    "RADIUS = 500 "
   ]
  },
  {
   "cell_type": "code",
   "execution_count": null,
   "metadata": {},
   "outputs": [],
   "source": [
    "# Define a function to search nearby venues for the categories specified and convert the result as dataframe\n",
    "def venues_nearby(latitude, longitude, category, verbose=True):    \n",
    "    results = fs.venues.search(\n",
    "        params = {\n",
    "            'query': category, \n",
    "            'll': '{},{}'.format(latitude, longitude),\n",
    "            'radius': RADIUS,\n",
    "            'categoryId': fs_categories[category]\n",
    "        }\n",
    "    )    \n",
    "    df = json_normalize(results['venues'])\n",
    "    cols = ['Name','Latitude','Longitude']    \n",
    "    if( len(df) == 0 ):        \n",
    "        df = pd.DataFrame(columns=cols)\n",
    "    else:        \n",
    "        df = df[['name','location.lat','location.lng']]\n",
    "        df.columns = cols\n",
    "    if( verbose ):\n",
    "        print('{} \"{}\" venues are found within {}m of location'.format(len(df), category, RADIUS))\n",
    "    return df"
   ]
  },
  {
   "cell_type": "code",
   "execution_count": null,
   "metadata": {},
   "outputs": [],
   "source": [
    "# to check the spesified venue categories for all the neighborhoods\n",
    "from pathlib import Path\n",
    "\n",
    "venues_csv = Path('./boston_venues.csv')\n",
    "df_venues = None\n",
    "\n",
    "# check the venues data is explored and downloaded \n",
    "if( venues_csv.exists() ):\n",
    "    df_venues = pd.read_csv('./boston_venues.csv')\n",
    "else:    \n",
    "    # construct a dataframe to store data\n",
    "    df_venues = pd.DataFrame(columns=[ 'Category','Latitude', 'Longitude'])\n",
    "    for (name, average_rent, latitude, longitude) in df_boston.itertuples(index=False):\n",
    "        for cat, cat_id in fs_categories.items():\n",
    "            df = venues_nearby(latitude, longitude, cat, verbose=False)\n",
    "            df['Neighborhood'] = name\n",
    "            df['Average Rent'] = average_rent\n",
    "            df['Category'] = cat\n",
    "            df_venues = df_venues.append(df, sort=True)\n",
    "    df_venues.to_csv('boston_venues.csv', index=False)"
   ]
  },
  {
   "cell_type": "code",
   "execution_count": null,
   "metadata": {},
   "outputs": [],
   "source": [
    "print('In total, {} venues are found in Boston.'.format(len(df_venues)))\n",
    "\n",
    "df_venues.head()"
   ]
  },
  {
   "cell_type": "code",
   "execution_count": null,
   "metadata": {},
   "outputs": [],
   "source": [
    "#number of venues from each category\n",
    "import matplotlib.pyplot as plt\n",
    "p= df_venues['Category'].value_counts().to_frame(name='Total Count')\n",
    "p.index.name = 'Venue Category'\n",
    "p.plot.bar(y='Total Count')"
   ]
  },
  {
   "cell_type": "code",
   "execution_count": null,
   "metadata": {},
   "outputs": [],
   "source": [
    "# number of venues for each neighborhood\n",
    "df_groupby= df_venues.groupby('Neighborhood').count().reset_index()\n",
    "df_groupby"
   ]
  },
  {
   "cell_type": "code",
   "execution_count": null,
   "metadata": {},
   "outputs": [],
   "source": [
    "#the dataset of all the venues from different categories in each neighborhood\n",
    "boston_onehot = pd.get_dummies(df_venues[['Category']], prefix=\"\", prefix_sep=\"\")#one hot encoding\n",
    "boston_onehot['Neighborhood'] = df_venues['Neighborhood'] \n",
    "fixed_columns = [boston_onehot.columns[-1]] + list(boston_onehot.columns[:-1])\n",
    "boston_onehot = boston_onehot[fixed_columns]\n",
    "boston_onehot.head()"
   ]
  },
  {
   "cell_type": "markdown",
   "metadata": {},
   "source": [
    "## Group rows by neighborhood to compare the frequency of different venue categories in each neighborhood: "
   ]
  },
  {
   "cell_type": "code",
   "execution_count": null,
   "metadata": {},
   "outputs": [],
   "source": [
    "boston_grouped = boston_onehot.groupby('Neighborhood').sum().reset_index()\n",
    "boston_grouped"
   ]
  },
  {
   "cell_type": "code",
   "execution_count": null,
   "metadata": {},
   "outputs": [],
   "source": [
    "#neighborhoods without any 'Movie Theater, Playground, Park, Garden, Zoo, Water Park, General Entertainment, Stadium'venues: \n",
    "print('We will remove {} from the investigation as does not have any Movie Theater, Playground, Park, Garden, Water Park, General Entertainment, Stadium, Amphitheater, Aquarium, Street Art, Beach, Recreation Center, Pedestrian Plaza venues around.'\n",
    "      .format(set(df_boston['Neighborhood']).difference(boston_grouped['Neighborhood'])))"
   ]
  },
  {
   "cell_type": "code",
   "execution_count": null,
   "metadata": {},
   "outputs": [],
   "source": [
    "### sort venues for each neighborhood\n",
    "for hood in boston_grouped['Neighborhood']:\n",
    "    print(\"----\"+hood+\"----\")\n",
    "    temp = boston_grouped[boston_grouped['Neighborhood'] == hood].T.reset_index()\n",
    "    temp.columns = ['venue','freq']\n",
    "    temp = temp.iloc[1:]\n",
    "    temp['freq'] = temp['freq'].astype(int)\n",
    "    temp = temp.round({'freq': 0})\n",
    "    print(temp.sort_values('freq', ascending=False).reset_index(drop=True))\n",
    "    print('\\n')"
   ]
  },
  {
   "cell_type": "code",
   "execution_count": null,
   "metadata": {},
   "outputs": [],
   "source": [
    "#a function to sort the venues in decrising order\n",
    "def return_most_common_venues(row, num_top_venues):\n",
    "    row_categories = row.iloc[1:]\n",
    "    row_categories_sorted = row_categories.sort_values(ascending=False)\n",
    "    \n",
    "    return row_categories_sorted.index.values[0:num_top_venues]"
   ]
  },
  {
   "cell_type": "code",
   "execution_count": null,
   "metadata": {},
   "outputs": [],
   "source": [
    "#find top 5 most common venues around each neighborhood\n",
    "num_top_venues = 5\n",
    "\n",
    "indicators = ['st', 'nd', 'rd']\n",
    "\n",
    "# create columns according to number of top venues\n",
    "\n",
    "columns =[ 'Neighborhood']\n",
    "for ind in np.arange(num_top_venues):\n",
    "    try:\n",
    "        columns.append('{}{} Most Common Venue'.format(ind+1, indicators[ind]))\n",
    "    except:\n",
    "        columns.append('{}th Most Common Venue'.format(ind+1))\n",
    "\n",
    "# create a new dataframe\n",
    "\n",
    "neighborhoods_venues_sorted = pd.DataFrame(columns=columns)\n",
    "\n",
    "neighborhoods_venues_sorted['Neighborhood'] = boston_grouped['Neighborhood']\n",
    "\n",
    "\n",
    "for ind in np.arange(boston_grouped.shape[0]):\n",
    "    neighborhoods_venues_sorted.iloc[ind, 1:] = return_most_common_venues(boston_grouped.iloc[ind, :], num_top_venues)\n",
    "\n",
    "#neighborhoods_venues_sorted['Average Rent'] = df_boston_nj['Average Rent']\n",
    "neighborhoods_venues_sorted['# of venues']= df_groupby['Category']\n",
    "\n",
    "neighborhoods_venues_sorted"
   ]
  },
  {
   "cell_type": "markdown",
   "metadata": {},
   "source": [
    "## Looking for Ice cream shops within walking distance (500 meters) of each of the neighborhoods to get an understanding of the competitors in each neighborhood:"
   ]
  },
  {
   "cell_type": "code",
   "execution_count": null,
   "metadata": {},
   "outputs": [],
   "source": [
    "# Ice cream shop category in FourSquare\n",
    "fs_categories = {\n",
    "    'Ice Cream Shop': ' 4bf58dd8d48988d1c9941735',\n",
    "}"
   ]
  },
  {
   "cell_type": "code",
   "execution_count": null,
   "metadata": {},
   "outputs": [],
   "source": [
    "# check Ice cream shop venue for all the neighborhoods\n",
    "from pathlib import Path\n",
    "\n",
    "venues_csv = Path('./boston_ic_cream.csv')\n",
    "df_venues = None\n",
    "if( venues_csv.exists() ):\n",
    "    df_venues = pd.read_csv('./boston_ic_creams.csv')\n",
    "else:    \n",
    "    # construct a dataframe to store data\n",
    "    df_venues = pd.DataFrame(columns=[ 'Category','Latitude', 'Longitude'])\n",
    "    for (name, average_rent, latitude, longitude) in df_boston.itertuples(index=False):\n",
    "        for cat, cat_id in fs_categories.items():\n",
    "            df = venues_nearby(latitude, longitude, cat, verbose=False)\n",
    "            df['Neighborhood'] = name\n",
    "            df['Average Rent'] = average_rent\n",
    "            df['Category'] = cat\n",
    "            df_venues = df_venues.append(df, sort=True)\n",
    "    df_venues.to_csv('boston__ic_cream.csv', index=False)\n",
    "   \n",
    "print('Total {} Ice Cream Shop are found in Boston Area.'.format(len(df_venues)))"
   ]
  },
  {
   "cell_type": "code",
   "execution_count": null,
   "metadata": {},
   "outputs": [],
   "source": [
    "#number of Ice cream shops within walking distance of each of the neighborhoods\n",
    "boston_onehot_ic = pd.get_dummies(df_venues[['Category']], prefix=\"\", prefix_sep=\"\")#one hot encoding\n",
    "boston_onehot_ic['Neighborhood'] = df_venues['Neighborhood'] # add neighborhood column back to dataframe\n",
    "fixed_columns = [boston_onehot_ic.columns[-1]] + list(boston_onehot_ic.columns[:-1])\n",
    "boston_onehot_ic = boston_onehot_ic[fixed_columns]\n",
    "boston_grouped_ic = boston_onehot_ic.groupby('Neighborhood').sum().reset_index()\n",
    "boston_icecreamshops = pd.merge(df_boston, boston_grouped_ic, on=['Neighborhood'], how='outer').fillna(0)\n",
    "boston_icecreamshops "
   ]
  },
  {
   "cell_type": "code",
   "execution_count": null,
   "metadata": {},
   "outputs": [],
   "source": [
    "#add the number of ice cream shops to the dataframe of all the neighborhoods with the list of 5 most common venues\n",
    "df_neighborhoods = pd.merge(neighborhoods_venues_sorted, boston_icecreamshops, on=['Neighborhood'], how='inner')\n",
    "df_neighborhoods"
   ]
  },
  {
   "cell_type": "markdown",
   "metadata": {},
   "source": [
    "# Methodology\n",
    "\n",
    "To start a new business, we need to select neighborhoods with fewer competitors. For this purpose, we will remove the neighborhoods with more than one ice cream shops. We will use K-means clustering to classify the neighborhoods based on the nearby venues and their frequencies (except the ice cream shop category). To make the decision, we will sort the neighborhoods in each cluster based on their average rent price. A neighborhood with more number of venues, no ice cream shop, and a lower price will be the best option."
   ]
  },
  {
   "cell_type": "markdown",
   "metadata": {},
   "source": [
    "## Select neighborhoods with fewer competitors\n",
    "We remove neighborhoods with more than one ice cream shop:"
   ]
  },
  {
   "cell_type": "code",
   "execution_count": null,
   "metadata": {},
   "outputs": [],
   "source": [
    "low_competitor=df_neighborhoods[df_neighborhoods['Ice Cream Shop'] < 2]\n",
    "low_competitor"
   ]
  },
  {
   "cell_type": "markdown",
   "metadata": {},
   "source": [
    "## Cluster the neighborhoods: \n",
    "Run k-means to cluster the neighborhood into 5 clusters based on the frequency of different venue categories (except ice-cream shop) around them"
   ]
  },
  {
   "cell_type": "code",
   "execution_count": null,
   "metadata": {},
   "outputs": [],
   "source": [
    "# different categories for neighborhoods with less than 2 ice-cream shops\n",
    "boston_grouped_reduced= boston_grouped[boston_grouped.index.isin(low_competitor.index)]\n",
    "boston_grouped_reduced"
   ]
  },
  {
   "cell_type": "code",
   "execution_count": null,
   "metadata": {},
   "outputs": [],
   "source": [
    "from sklearn.cluster import KMeans\n",
    "kclusters = 5 # set number of clusters\n",
    "\n",
    "boston_grouped_clustering = boston_grouped_reduced.drop('Neighborhood', 1)\n",
    "\n",
    "# run k-means clustering\n",
    "kmeans = KMeans(n_clusters=kclusters, random_state=0).fit(boston_grouped_clustering)\n",
    "\n",
    "# find cluster labels generated for each row of boston_grouped dataframe (neghborhoods of boston excep Jamaica Plain and Mattapan)\n",
    "kmeans.labels_[0:15] "
   ]
  },
  {
   "cell_type": "code",
   "execution_count": null,
   "metadata": {},
   "outputs": [],
   "source": [
    "#to add the clusters to the dataframe\n",
    "low_competitor.insert(0, 'Cluster Label', kmeans.labels_)# add clustering labels"
   ]
  },
  {
   "cell_type": "code",
   "execution_count": null,
   "metadata": {},
   "outputs": [],
   "source": [
    "# merge toronto_grouped with toronto_data to add latitude/longitude for each neighborhood\n",
    "boston_merged = pd.merge(df_boston, low_competitor, on=['Neighborhood', 'Average Rent','Latitude','Longitude'], how='inner')\n",
    "boston_merged"
   ]
  },
  {
   "cell_type": "code",
   "execution_count": null,
   "metadata": {},
   "outputs": [],
   "source": [
    "#!conda install -c conda-forge folium=0.5.0 --yes "
   ]
  },
  {
   "cell_type": "markdown",
   "metadata": {},
   "source": [
    "## Map the clustered neighborhoods"
   ]
  },
  {
   "cell_type": "code",
   "execution_count": null,
   "metadata": {},
   "outputs": [],
   "source": [
    "#visualize the clustered neighborhoods of boston\n",
    "# create map\n",
    "map_clusters = folium.Map(location=[latitude, longitude], zoom_start=11)\n",
    "\n",
    "# Matplotlib and associated plotting modules\n",
    "import folium \n",
    "from folium.features import CustomIcon\n",
    "from folium.plugins import MarkerCluster\n",
    "import matplotlib.cm as cm\n",
    "import matplotlib.colors as colors\n",
    "\n",
    "# set color scheme for the clusters\n",
    "x = np.arange(kclusters)\n",
    "ys = [i + x + (i*x)**2 for i in range(kclusters)]\n",
    "colors_array = cm.rainbow(np.linspace(0, 1, len(ys)))\n",
    "rainbow = [colors.rgb2hex(i) for i in colors_array]\n",
    "\n",
    "# add markers to the map\n",
    "markers_colors = []\n",
    "for lat, lon, poi, cluster in zip(boston_merged['Latitude'], boston_merged['Longitude'], boston_merged['Neighborhood'], boston_merged['Cluster Label']):\n",
    "    label = folium.Popup(str(poi) + ' Cluster ' + str(cluster), parse_html=True)\n",
    "    folium.CircleMarker(\n",
    "        [lat, lon],\n",
    "        radius=6,\n",
    "        popup=label,\n",
    "        color=rainbow[cluster-1],\n",
    "        fill=True,\n",
    "        fill_color=rainbow[cluster-1],\n",
    "        fill_opacity=0.7).add_to(map_clusters)\n",
    "       \n",
    "map_clusters"
   ]
  },
  {
   "cell_type": "markdown",
   "metadata": {},
   "source": [
    "# Results\n",
    "The result of 5 clusters are specified in this section. The neighborhoods in each cluster are sorted based on their average rent price:"
   ]
  },
  {
   "cell_type": "markdown",
   "metadata": {},
   "source": [
    " **Cluster 1:**"
   ]
  },
  {
   "cell_type": "code",
   "execution_count": null,
   "metadata": {},
   "outputs": [],
   "source": [
    "cluster1= boston_merged.loc[boston_merged['Cluster Label'] == 0]\n",
    "cols = [0,1,5,6,7,8,9,10,11]\n",
    "cluster1[cluster1.columns[cols]]"
   ]
  },
  {
   "cell_type": "markdown",
   "metadata": {},
   "source": [
    " **Cluster 2:**"
   ]
  },
  {
   "cell_type": "code",
   "execution_count": null,
   "metadata": {},
   "outputs": [],
   "source": [
    "cluster2=boston_merged.loc[boston_merged['Cluster Label'] == 1]\n",
    "cluster2[cluster2.columns[cols]].sort_values(['Average Rent'], ascending=True) #sort the neighborhoods in the cluster based on their average rent"
   ]
  },
  {
   "cell_type": "markdown",
   "metadata": {},
   "source": [
    " **Cluster 3:**"
   ]
  },
  {
   "cell_type": "code",
   "execution_count": null,
   "metadata": {},
   "outputs": [],
   "source": [
    "cluster3=boston_merged.loc[boston_merged['Cluster Label'] == 2]\n",
    "cluster3[cluster3.columns[cols]].sort_values(['Average Rent'], ascending=True) #sort the neighborhoods in the cluster based on their average rent"
   ]
  },
  {
   "cell_type": "markdown",
   "metadata": {},
   "source": [
    "**Cluster 4:**"
   ]
  },
  {
   "cell_type": "code",
   "execution_count": null,
   "metadata": {},
   "outputs": [],
   "source": [
    "cluster4=boston_merged.loc[boston_merged['Cluster Label'] == 3]\n",
    "cluster4[cluster4.columns[cols]].sort_values(['Average Rent'], ascending=True)  #sort the neighborhoods in the cluster based on their average rent"
   ]
  },
  {
   "cell_type": "markdown",
   "metadata": {},
   "source": [
    "**Cluster 5:**"
   ]
  },
  {
   "cell_type": "code",
   "execution_count": null,
   "metadata": {},
   "outputs": [],
   "source": [
    "cluster5=boston_merged.loc[boston_merged['Cluster Label'] == 4]\n",
    "cluster5[cluster5.columns[cols]].sort_values(['Average Rent'], ascending=True)  #sort the neighborhoods in the cluster based on their average rent"
   ]
  },
  {
   "cell_type": "markdown",
   "metadata": {},
   "source": [
    "# Discussion"
   ]
  },
  {
   "cell_type": "markdown",
   "metadata": {},
   "source": [
    "According to the result of our analysis, South End Boston (in cluster 1) is the best neighborhood to open an ice cream shop in Boston. It has the most number of total venues and is expected to attract many people to visit. This neighborhood with 12 parks, 7 gardens, 4 playgrounds, and one movie theater and no ice cream shop within walking distance is the best option. However, the final decision is dependent on the budget of the client to rent the place. According to the budget limitations of the client, we can find other neighborhoods and select the one with the most number of venues and less number of ice cream shops around. This clustering can also help our client compare different neighborhoods to make a better decision. For example, South End Boston is a better option comparing to both neighborhoods in cluster 3 as has less average rent price, a larger number of venues, and no ice cream shop around. \n"
   ]
  },
  {
   "cell_type": "markdown",
   "metadata": {},
   "source": [
    "# Conclusion"
   ]
  },
  {
   "cell_type": "markdown",
   "metadata": {},
   "source": [
    "We used the information about the neighborhoods of Boston to help my client to select the best location to open an ice cream shop in Boston. We considered number of competitors, demand for ice cream, and budget limitations to find the best location options. \n",
    "\n",
    "This project has some limitations. First, we have limited the location options to the neighborhoods of Boston, however considering more specific locations such as particular streets can improve the accuracy of our decision. Second, we used the median of one bedroom rent price in each neighborhood as an estimate of the rent price. Third, we limited our investigation for the venues within 500 meter of the neighborhoods and changing it can affect the clusters. Also, we considered equal weights for different venues and as an extension one can consider different weights for the venues (for example being near a beach has more impact on the demand for ice cream comparing to being near a pedestrian plaza)."
   ]
  }
 ],
 "metadata": {
  "kernelspec": {
   "display_name": "Python 3",
   "language": "python",
   "name": "python3"
  },
  "language_info": {
   "codemirror_mode": {
    "name": "ipython",
    "version": 3
   },
   "file_extension": ".py",
   "mimetype": "text/x-python",
   "name": "python",
   "nbconvert_exporter": "python",
   "pygments_lexer": "ipython3",
   "version": "3.7.4"
  },
  "toc": {
   "base_numbering": 1,
   "nav_menu": {},
   "number_sections": true,
   "sideBar": true,
   "skip_h1_title": false,
   "title_cell": "Table of Contents",
   "title_sidebar": "Contents",
   "toc_cell": false,
   "toc_position": {},
   "toc_section_display": true,
   "toc_window_display": false
  },
  "varInspector": {
   "cols": {
    "lenName": 16,
    "lenType": 16,
    "lenVar": 40
   },
   "kernels_config": {
    "python": {
     "delete_cmd_postfix": "",
     "delete_cmd_prefix": "del ",
     "library": "var_list.py",
     "varRefreshCmd": "print(var_dic_list())"
    },
    "r": {
     "delete_cmd_postfix": ") ",
     "delete_cmd_prefix": "rm(",
     "library": "var_list.r",
     "varRefreshCmd": "cat(var_dic_list()) "
    }
   },
   "types_to_exclude": [
    "module",
    "function",
    "builtin_function_or_method",
    "instance",
    "_Feature"
   ],
   "window_display": false
  }
 },
 "nbformat": 4,
 "nbformat_minor": 4
}
